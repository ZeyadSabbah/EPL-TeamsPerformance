{
 "cells": [
  {
   "cell_type": "markdown",
   "id": "static-difference",
   "metadata": {},
   "source": [
    "# Gather\n",
    "## Packages"
   ]
  },
  {
   "cell_type": "markdown",
   "id": "lesser-hayes",
   "metadata": {},
   "source": [
    "## Data"
   ]
  },
  {
   "cell_type": "markdown",
   "id": "visible-deputy",
   "metadata": {},
   "source": [
    "# Data Preparation"
   ]
  },
  {
   "cell_type": "markdown",
   "id": "charitable-local",
   "metadata": {},
   "source": [
    "# Introduction\n",
    "In this section, you should give an introduction to the topic related to your chosen data set. Describe the topic and explain why it is important to analyze and understand the results. You should provide enough information on the topic in this section so that someone who has no knowledge of the topic can understand what you are doing and why it is important."
   ]
  },
  {
   "cell_type": "markdown",
   "id": "frozen-boutique",
   "metadata": {},
   "source": [
    "# Research Question & Hypothesis\n",
    "In this section, you should present the question you are trying to answer with your analysis along with a prediction of what you think the results will be. Remember that your results will either support or not support your hypothesis. Do not be concerned if your results do not support your hypothesis as this leaves room for you to discuss in the conclusion why you think the results supported or did not support your hypothesis."
   ]
  },
  {
   "cell_type": "markdown",
   "id": "accompanied-brick",
   "metadata": {},
   "source": [
    "# Experimental Design\n",
    "Here, you should explain what type of analysis you will use and why it is the appropriate type of analysis. In the course, you learned about a number of ways to analyze data.  You learned about z-tests, t-tests, and how to run an analysis of variance. You also learned about performing regression and how to perform chi-squared tests. Choose one of these methods as your main type of analysis and provide detailed reasoning for this choice."
   ]
  },
  {
   "cell_type": "markdown",
   "id": "understood-regular",
   "metadata": {},
   "source": [
    "# Results\n",
    "This section should include all of the results from your analysis. Provide all the information from your analysis even if it does not support your hypothesis. You should also provide screenshots/images of your data. You can use whatever types of visualizations that best represent the data (i.e. graphs, bar charts, histograms, etc).  "
   ]
  },
  {
   "cell_type": "markdown",
   "id": "ancient-bernard",
   "metadata": {},
   "source": [
    "# Conclusion\n",
    "Here, you should discuss whether or not the results from your data supported or did not support your hypothesis. If the results did not support your hypothesis, discuss why you think they did not and if there is anything that could have been done differently that would have changed the outcome. If your results did support your hypothesis, explain what this means and the real life implications. In either case, discuss why further research on the topic should be done and why it is important to do so."
   ]
  }
 ],
 "metadata": {
  "toc": {
   "base_numbering": 1,
   "nav_menu": {},
   "number_sections": false,
   "sideBar": true,
   "skip_h1_title": false,
   "title_cell": "Table of Contents",
   "title_sidebar": "Contents",
   "toc_cell": false,
   "toc_position": {
    "height": "388.182px",
    "left": "25px",
    "top": "180.77px",
    "width": "248.352px"
   },
   "toc_section_display": true,
   "toc_window_display": true
  }
 },
 "nbformat": 4,
 "nbformat_minor": 5
}
