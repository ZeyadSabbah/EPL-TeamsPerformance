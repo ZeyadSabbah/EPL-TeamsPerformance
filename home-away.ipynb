{
 "cells": [
  {
   "cell_type": "markdown",
   "id": "packed-juice",
   "metadata": {},
   "source": [
    "# Gather"
   ]
  },
  {
   "cell_type": "markdown",
   "id": "filled-delivery",
   "metadata": {},
   "source": [
    "## Packages"
   ]
  },
  {
   "cell_type": "code",
   "execution_count": 3,
   "id": "prompt-greensboro",
   "metadata": {},
   "outputs": [],
   "source": [
    "import pandas as pd\n",
    "import numpy as np\n",
    "from scipy.stats import chisquare\n",
    "from bs4 import BeautifulSoup\n",
    "import json\n",
    "import requests"
   ]
  },
  {
   "cell_type": "markdown",
   "id": "alive-damages",
   "metadata": {},
   "source": [
    "# Helper Functions"
   ]
  },
  {
   "cell_type": "code",
   "execution_count": 63,
   "id": "arranged-feelings",
   "metadata": {},
   "outputs": [],
   "source": [
    "def dataframe(table):\n",
    "    rows = table.find_all('tr')\n",
    "    data = []\n",
    "    for row in rows[1:]:\n",
    "        cols = row.find_all('td')\n",
    "        cols = [ele.text.strip() for ele in cols]\n",
    "        data.append([ele for ele in cols if ele])\n",
    "    df = pd.DataFrame(data, columns=['rank', 'club', 'game_played', 'win', 'draw', 'loss',\n",
    "                                     'goals_for', 'goals_agains', 'goal_difference', 'points'])\n",
    "    return df"
   ]
  },
  {
   "cell_type": "markdown",
   "id": "medieval-orientation",
   "metadata": {},
   "source": [
    "## Data"
   ]
  },
  {
   "cell_type": "markdown",
   "id": "young-easter",
   "metadata": {},
   "source": [
    "Data is collected from soccerstats.com."
   ]
  },
  {
   "cell_type": "code",
   "execution_count": 75,
   "id": "narrative-manor",
   "metadata": {},
   "outputs": [],
   "source": [
    "url = 'https://www.soccerstats.com/homeaway.asp?league=england_20{}'\n",
    "years = np.arange(14, 21)\n",
    "for year in years:\n",
    "    response = requests.get(url.format(year))\n",
    "    html = response.text\n",
    "\n",
    "    soup = BeautifulSoup(html)\n",
    "    home_table = soup.find_all('table', {'id':'btable'})[0]\n",
    "    away_table = soup.find_all('table', {'id':'btable'})[1]\n",
    "    \n",
    "    home_df = dataframe(home_table)\n",
    "    away_df = dataframe(away_table)\n",
    "    \n",
    "    home_df.to_csv('./data/home20{}-20{}.csv'.format(year-1, year), index=False)\n",
    "    away_df.to_csv('./data/away20{}-20{}.csv'.format(year-1, year), index=False)"
   ]
  },
  {
   "cell_type": "markdown",
   "id": "collected-kazakhstan",
   "metadata": {},
   "source": [
    "# Data Preparation"
   ]
  },
  {
   "cell_type": "markdown",
   "id": "liberal-allowance",
   "metadata": {},
   "source": [
    "# Introduction\n",
    "In the English Premiere League, there are 20 teams that play each other, every team plays 38 games, 19 games are played in the team's field and the rest are played in the opponents' field.  \n",
    "There is a claim that team perform better on their fields (Home) than on the opponents' fields (Away).  \n",
    "The pointing system used in the league states that if the team wins, it gets 3 points, if it loses, it gets nothing, and there is a draw between the two teams, each team gets 1 point.  \n",
    "The data is collected from a website that keeps record from 2013 till today. The statistical analysis would be performed on these records to see if there is a statistical evidence on that claim or not."
   ]
  },
  {
   "cell_type": "markdown",
   "id": "complete-constraint",
   "metadata": {},
   "source": [
    "# Research Question & Hypothesis\n",
    "Research Question: Do teams perform better on their fields than on their opponents' fields?\n",
    "Hypothesis:  \n",
    "H0: μH =< μA  \n",
    "HA: μH >  μA  \n",
    "  \n",
    "H stands for Home  \n",
    "A stands for Away\n",
    "\n",
    "The null hypothesis states that there is no difference in the performance for the teams or they actually perform worse if the team is Home, while the alternative hypothesis states that teams perform better Home."
   ]
  },
  {
   "cell_type": "markdown",
   "id": "occasional-franchise",
   "metadata": {},
   "source": [
    "# Experimental Design\n",
    "Since the number of records is not that big, t-test is conducted over the 20 records. The data used provides general information on the performance throughout the season, that's why Independent one-tail t-test takes place here.  \n",
    "Points would be the most informative variable for how different teams are performing, so points is selected for that matter.  "
   ]
  },
  {
   "cell_type": "markdown",
   "id": "instrumental-jesus",
   "metadata": {},
   "source": [
    "# Results\n",
    "This section should include all of the results from your analysis. Provide all the information from your analysis even if it does not support your hypothesis. You should also provide screenshots/images of your data. You can use whatever types of visualizations that best represent the data (i.e. graphs, bar charts, histograms, etc).  "
   ]
  },
  {
   "cell_type": "markdown",
   "id": "disciplinary-cowboy",
   "metadata": {},
   "source": [
    "# Conclusion\n",
    "Here, you should discuss whether or not the results from your data supported or did not support your hypothesis. If the results did not support your hypothesis, discuss why you think they did not and if there is anything that could have been done differently that would have changed the outcome. If your results did support your hypothesis, explain what this means and the real life implications. In either case, discuss why further research on the topic should be done and why it is important to do so."
   ]
  }
 ],
 "metadata": {
  "kernelspec": {
   "display_name": "Python 3",
   "language": "python",
   "name": "python3"
  },
  "language_info": {
   "codemirror_mode": {
    "name": "ipython",
    "version": 3
   },
   "file_extension": ".py",
   "mimetype": "text/x-python",
   "name": "python",
   "nbconvert_exporter": "python",
   "pygments_lexer": "ipython3",
   "version": "3.7.3"
  },
  "toc": {
   "base_numbering": 1,
   "nav_menu": {},
   "number_sections": false,
   "sideBar": true,
   "skip_h1_title": false,
   "title_cell": "Table of Contents",
   "title_sidebar": "Contents",
   "toc_cell": false,
   "toc_position": {
    "height": "388.182px",
    "left": "25px",
    "top": "180.77px",
    "width": "248.352px"
   },
   "toc_section_display": true,
   "toc_window_display": true
  }
 },
 "nbformat": 4,
 "nbformat_minor": 5
}
