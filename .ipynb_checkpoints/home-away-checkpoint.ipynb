{
 "cells": [
  {
   "cell_type": "markdown",
   "id": "packed-juice",
   "metadata": {},
   "source": [
    "# Gather"
   ]
  },
  {
   "cell_type": "markdown",
   "id": "filled-delivery",
   "metadata": {},
   "source": [
    "## Packages"
   ]
  },
  {
   "cell_type": "code",
   "execution_count": 23,
   "id": "prompt-greensboro",
   "metadata": {},
   "outputs": [],
   "source": [
    "import pandas as pd\n",
    "import numpy as np\n",
    "from scipy.stats import chisquare\n",
    "from bs4 import BeautifulSoup\n",
    "import json\n",
    "import requests\n",
    "import os\n",
    "import matplotlib.pyplot as plt"
   ]
  },
  {
   "cell_type": "markdown",
   "id": "alive-damages",
   "metadata": {},
   "source": [
    "# Helper Functions"
   ]
  },
  {
   "cell_type": "code",
   "execution_count": 3,
   "id": "arranged-feelings",
   "metadata": {},
   "outputs": [],
   "source": [
    "def dataframe(table):\n",
    "    rows = table.find_all('tr')\n",
    "    data = []\n",
    "    for row in rows[1:]:\n",
    "        cols = row.find_all('td')\n",
    "        cols = [ele.text.strip() for ele in cols]\n",
    "        data.append([ele for ele in cols if ele])\n",
    "    df = pd.DataFrame(data, columns=['rank', 'club', 'game_played', 'win', 'draw', 'loss',\n",
    "                                     'goals_for', 'goals_agains', 'goal_difference', 'points'])\n",
    "    return df"
   ]
  },
  {
   "cell_type": "markdown",
   "id": "medieval-orientation",
   "metadata": {},
   "source": [
    "## Data"
   ]
  },
  {
   "cell_type": "markdown",
   "id": "young-easter",
   "metadata": {},
   "source": [
    "Data is collected from soccerstats.com."
   ]
  },
  {
   "cell_type": "code",
   "execution_count": 4,
   "id": "narrative-manor",
   "metadata": {},
   "outputs": [],
   "source": [
    "if not os.path.exists('./data/home2014-2015.csv'):\n",
    "    url = 'https://www.soccerstats.com/homeaway.asp?league=england_20{}'\n",
    "    years = np.arange(14, 21)\n",
    "    for year in years:\n",
    "        response = requests.get(url.format(year))\n",
    "        html = response.text\n",
    "\n",
    "        soup = BeautifulSoup(html)\n",
    "        home_table = soup.find_all('table', {'id':'btable'})[0]\n",
    "        away_table = soup.find_all('table', {'id':'btable'})[1]\n",
    "\n",
    "        home_df = dataframe(home_table)\n",
    "        away_df = dataframe(away_table)\n",
    "\n",
    "        home_df.to_csv('./data/home20{}-20{}.csv'.format(year-1, year), index=False)\n",
    "        away_df.to_csv('./data/away20{}-20{}.csv'.format(year-1, year), index=False)"
   ]
  },
  {
   "cell_type": "code",
   "execution_count": 5,
   "id": "hybrid-advantage",
   "metadata": {},
   "outputs": [
    {
     "data": {
      "text/html": [
       "<div>\n",
       "<style scoped>\n",
       "    .dataframe tbody tr th:only-of-type {\n",
       "        vertical-align: middle;\n",
       "    }\n",
       "\n",
       "    .dataframe tbody tr th {\n",
       "        vertical-align: top;\n",
       "    }\n",
       "\n",
       "    .dataframe thead th {\n",
       "        text-align: right;\n",
       "    }\n",
       "</style>\n",
       "<table border=\"1\" class=\"dataframe\">\n",
       "  <thead>\n",
       "    <tr style=\"text-align: right;\">\n",
       "      <th></th>\n",
       "      <th>rank</th>\n",
       "      <th>club</th>\n",
       "      <th>game_played</th>\n",
       "      <th>win</th>\n",
       "      <th>draw</th>\n",
       "      <th>loss</th>\n",
       "      <th>goals_for</th>\n",
       "      <th>goals_agains</th>\n",
       "      <th>goal_difference</th>\n",
       "      <th>points</th>\n",
       "    </tr>\n",
       "  </thead>\n",
       "  <tbody>\n",
       "    <tr>\n",
       "      <th>0</th>\n",
       "      <td>1</td>\n",
       "      <td>Chelsea</td>\n",
       "      <td>19</td>\n",
       "      <td>15</td>\n",
       "      <td>4</td>\n",
       "      <td>0</td>\n",
       "      <td>36</td>\n",
       "      <td>9</td>\n",
       "      <td>27</td>\n",
       "      <td>49</td>\n",
       "    </tr>\n",
       "    <tr>\n",
       "      <th>1</th>\n",
       "      <td>2</td>\n",
       "      <td>Manchester City</td>\n",
       "      <td>19</td>\n",
       "      <td>14</td>\n",
       "      <td>3</td>\n",
       "      <td>2</td>\n",
       "      <td>44</td>\n",
       "      <td>14</td>\n",
       "      <td>30</td>\n",
       "      <td>45</td>\n",
       "    </tr>\n",
       "    <tr>\n",
       "      <th>2</th>\n",
       "      <td>3</td>\n",
       "      <td>Manchester Utd</td>\n",
       "      <td>19</td>\n",
       "      <td>14</td>\n",
       "      <td>2</td>\n",
       "      <td>3</td>\n",
       "      <td>41</td>\n",
       "      <td>15</td>\n",
       "      <td>26</td>\n",
       "      <td>44</td>\n",
       "    </tr>\n",
       "    <tr>\n",
       "      <th>3</th>\n",
       "      <td>4</td>\n",
       "      <td>Arsenal</td>\n",
       "      <td>19</td>\n",
       "      <td>12</td>\n",
       "      <td>5</td>\n",
       "      <td>2</td>\n",
       "      <td>41</td>\n",
       "      <td>14</td>\n",
       "      <td>27</td>\n",
       "      <td>41</td>\n",
       "    </tr>\n",
       "    <tr>\n",
       "      <th>4</th>\n",
       "      <td>5</td>\n",
       "      <td>Southampton</td>\n",
       "      <td>19</td>\n",
       "      <td>11</td>\n",
       "      <td>4</td>\n",
       "      <td>4</td>\n",
       "      <td>37</td>\n",
       "      <td>13</td>\n",
       "      <td>24</td>\n",
       "      <td>37</td>\n",
       "    </tr>\n",
       "  </tbody>\n",
       "</table>\n",
       "</div>"
      ],
      "text/plain": [
       "   rank             club  game_played  win  draw  loss  goals_for  \\\n",
       "0     1          Chelsea           19   15     4     0         36   \n",
       "1     2  Manchester City           19   14     3     2         44   \n",
       "2     3   Manchester Utd           19   14     2     3         41   \n",
       "3     4          Arsenal           19   12     5     2         41   \n",
       "4     5      Southampton           19   11     4     4         37   \n",
       "\n",
       "   goals_agains  goal_difference  points  \n",
       "0             9               27      49  \n",
       "1            14               30      45  \n",
       "2            15               26      44  \n",
       "3            14               27      41  \n",
       "4            13               24      37  "
      ]
     },
     "execution_count": 5,
     "metadata": {},
     "output_type": "execute_result"
    }
   ],
   "source": [
    "df = pd.read_csv('./data/home2014-2015.csv')\n",
    "df.head()"
   ]
  },
  {
   "cell_type": "markdown",
   "id": "collected-kazakhstan",
   "metadata": {},
   "source": [
    "# Data Preparation"
   ]
  },
  {
   "cell_type": "markdown",
   "id": "liberal-allowance",
   "metadata": {},
   "source": [
    "# Introduction\n",
    "In the English Premiere League, there are 20 teams that play each other, every team plays 38 games, 19 games are played in the team's field and the rest are played in the opponents' field.  \n",
    "There is a claim that team perform better on their fields (Home) than on the opponents' fields (Away).  \n",
    "The pointing system used in the league states that if the team wins, it gets 3 points, if it loses, it gets nothing, and there is a draw between the two teams, each team gets 1 point.  \n",
    "The data is collected from a website that keeps record from 2013 till today. The statistical analysis would be performed on these records to see if there is a statistical evidence on that claim or not."
   ]
  },
  {
   "cell_type": "code",
   "execution_count": 18,
   "id": "known-bangkok",
   "metadata": {},
   "outputs": [],
   "source": [
    "all_home_points = []\n",
    "all_away_points = []\n",
    "years = np.arange(14, 21)\n",
    "for year in years:\n",
    "    home_data = pd.read_csv('./data/home20{}-20{}.csv'.format(year-1, year))\n",
    "    away_data = pd.read_csv('./data/away20{}-20{}.csv'.format(year-1, year))\n",
    "    home_points, away_points = home_data['points'], away_data['points']\n",
    "    all_home_points.append(home_points)\n",
    "    all_away_points.append(away_points)\n",
    "\n",
    "all_home_points = pd.concat(all_home_points)\n",
    "all_away_points = pd.concat(all_away_points)"
   ]
  },
  {
   "cell_type": "markdown",
   "id": "complete-constraint",
   "metadata": {},
   "source": [
    "# Research Question & Hypothesis\n",
    "Research Question: Do teams perform better on their fields than on their opponents' fields?\n",
    "Hypothesis:  \n",
    "H0: μH =< μA  \n",
    "HA: μH >  μA  \n",
    "\n",
    "Which means  \n",
    "H0: μH - μA =< 0  \n",
    "HA: μH - μA > 0  \n",
    "  \n",
    "H stands for Home  \n",
    "A stands for Away\n",
    "\n",
    "The null hypothesis states that there is no difference in the performance for the teams or they actually perform worse if the team is Home, while the alternative hypothesis states that teams perform better Home."
   ]
  },
  {
   "cell_type": "markdown",
   "id": "incoming-shelf",
   "metadata": {},
   "source": [
    "## Distribution"
   ]
  },
  {
   "cell_type": "code",
   "execution_count": 47,
   "id": "typical-strap",
   "metadata": {},
   "outputs": [
    {
     "data": {
      "image/png": "[encoded data removed]",
      "text/plain": [
       "<Figure size 576x432 with 1 Axes>"
      ]
     },
     "metadata": {
      "needs_background": "light"
     },
     "output_type": "display_data"
    }
   ],
   "source": [
    "plt.figure(figsize=[8, 6])\n",
    "plt.hist(all_home_points, bins=15, alpha=0.5, label='Home Points')\n",
    "plt.hist(all_away_points, bins=15, alpha=0.5, label='Away Points')\n",
    "plt.legend()\n",
    "plt.show();"
   ]
  },
  {
   "cell_type": "markdown",
   "id": "valid-lincoln",
   "metadata": {},
   "source": [
    "# Experimental Design\n",
    "Since the number of records is not that big, t-test is conducted over the 20 records multiplied by the number of seasons. The data used provides general information on the performance throughout the season, that's why Central Limit Theorem and its visualization will take place.  \n",
    "Points would be the most informative variable for how different teams are performing, so points is selected for that matter.  "
   ]
  },
  {
   "cell_type": "code",
   "execution_count": 48,
   "id": "imported-nelson",
   "metadata": {},
   "outputs": [],
   "source": [
    "n = len(all_home_points)\n",
    "home_sample_means = [np.random.choice(all_home_points, n).mean() for _ in range(10000)]\n",
    "away_sample_means = [np.random.choice(all_away_points, n).mean() for _ in range(10000)]"
   ]
  },
  {
   "cell_type": "code",
   "execution_count": 49,
   "id": "amateur-danish",
   "metadata": {},
   "outputs": [
    {
     "data": {
      "image/png": "[encoded data removed]",
      "text/plain": [
       "<Figure size 576x432 with 1 Axes>"
      ]
     },
     "metadata": {
      "needs_background": "light"
     },
     "output_type": "display_data"
    }
   ],
   "source": [
    "plt.figure(figsize=[8, 6])\n",
    "plt.hist(home_sample_means, bins=15, alpha=0.5, label='Home Points')\n",
    "plt.hist(away_sample_means, bins=15, alpha=0.5, label='Away Points')\n",
    "plt.legend()\n",
    "plt.show();"
   ]
  },
  {
   "cell_type": "markdown",
   "id": "anonymous-seating",
   "metadata": {},
   "source": [
    "Null Hypothesis Simulation"
   ]
  },
  {
   "cell_type": "code",
   "execution_count": 56,
   "id": "measured-southwest",
   "metadata": {},
   "outputs": [],
   "source": [
    "all_points = pd.concat([all_home_points, all_away_points])\n",
    "n = len(all_points)\n",
    "means_differences = []\n",
    "\n",
    "for _ in range(10000):\n",
    "    home = np.random.choice(all_points, n)\n",
    "    away = np.random.choice(all_points, n)\n",
    "    \n",
    "    diff = np.mean(home) - np.mean(away)\n",
    "    means_differences.append(diff)"
   ]
  },
  {
   "cell_type": "code",
   "execution_count": 58,
   "id": "invisible-trial",
   "metadata": {},
   "outputs": [
    {
     "data": {
      "image/png": "[encoded data removed]",
      "text/plain": [
       "<Figure size 576x432 with 1 Axes>"
      ]
     },
     "metadata": {
      "needs_background": "light"
     },
     "output_type": "display_data"
    }
   ],
   "source": [
    "observed_point = np.mean(all_home_points) - np.mean(all_away_points)\n",
    "\n",
    "plt.figure(figsize=[8, 6])\n",
    "plt.hist(means_differences, label='Null Simulation Home - Away', bins=20)\n",
    "plt.axvline(observed_point, label='Data Points Home - Away', color='yellow')\n",
    "plt.legend()\n",
    "plt.show();\n"
   ]
  },
  {
   "cell_type": "markdown",
   "id": "received-democracy",
   "metadata": {},
   "source": [
    "From the graph, the zero point seems to be far away from the difference of means distribution."
   ]
  },
  {
   "cell_type": "markdown",
   "id": "republican-round",
   "metadata": {},
   "source": [
    "p-value"
   ]
  },
  {
   "cell_type": "code",
   "execution_count": 61,
   "id": "effective-leisure",
   "metadata": {},
   "outputs": [
    {
     "name": "stdout",
     "output_type": "stream",
     "text": [
      "p-value: 0.0\n"
     ]
    }
   ],
   "source": [
    "p_value = (pd.Series(means_differences) > observed_point).mean()\n",
    "print('p-value: {}'.format(p_value))"
   ]
  },
  {
   "cell_type": "markdown",
   "id": "elder-butler",
   "metadata": {},
   "source": [
    "t-test Calculations"
   ]
  },
  {
   "cell_type": "code",
   "execution_count": 65,
   "id": "liquid-lodge",
   "metadata": {},
   "outputs": [
    {
     "name": "stdout",
     "output_type": "stream",
     "text": [
      "Reject the null hypothesis.\n"
     ]
    }
   ],
   "source": [
    "std_home = all_home_points.std()\n",
    "std_away = all_away_points.std()\n",
    "n = len(all_home_points)\n",
    "SE = np.sqrt(std_home**2/n + std_away**2/n)\n",
    "df = n*2 - 2\n",
    "\n",
    "mean_home = np.mean(all_home_points)\n",
    "mean_away = np.mean(all_away_points)\n",
    "\n",
    "t_statistic = (mean_home - mean_away)/SE\n",
    "\n",
    "t_critical = +1.645\n",
    "\n",
    "if t_statistic > t_critical:\n",
    "    print('Reject the null hypothesis.')\n",
    "else:\n",
    "    print('Failed to reject the null hypothesis.')"
   ]
  },
  {
   "cell_type": "markdown",
   "id": "disciplinary-cowboy",
   "metadata": {},
   "source": [
    "# Conclusion\n",
    "Statistically speaking, teams perform better on their fields (home) than opponents' fields (away)."
   ]
  }
 ],
 "metadata": {
  "kernelspec": {
   "display_name": "Python 3",
   "language": "python",
   "name": "python3"
  },
  "language_info": {
   "codemirror_mode": {
    "name": "ipython",
    "version": 3
   },
   "file_extension": ".py",
   "mimetype": "text/x-python",
   "name": "python",
   "nbconvert_exporter": "python",
   "pygments_lexer": "ipython3",
   "version": "3.7.3"
  },
  "toc": {
   "base_numbering": 1,
   "nav_menu": {},
   "number_sections": false,
   "sideBar": true,
   "skip_h1_title": false,
   "title_cell": "Table of Contents",
   "title_sidebar": "Contents",
   "toc_cell": false,
   "toc_position": {
    "height": "388.182px",
    "left": "25px",
    "top": "180.77px",
    "width": "248.352px"
   },
   "toc_section_display": true,
   "toc_window_display": true
  }
 },
 "nbformat": 4,
 "nbformat_minor": 5
}
