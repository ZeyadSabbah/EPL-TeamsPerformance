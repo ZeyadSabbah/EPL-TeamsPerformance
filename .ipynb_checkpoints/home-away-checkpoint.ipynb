{
 "cells": [
  {
   "cell_type": "markdown",
   "id": "packed-juice",
   "metadata": {},
   "source": [
    "# Gather"
   ]
  },
  {
   "cell_type": "markdown",
   "id": "filled-delivery",
   "metadata": {},
   "source": [
    "## Packages"
   ]
  },
  {
   "cell_type": "code",
   "execution_count": 3,
   "id": "prompt-greensboro",
   "metadata": {},
   "outputs": [],
   "source": [
    "import pandas as pd\n",
    "import numpy as np\n",
    "from scipy.stats import chisquare\n",
    "from bs4 import BeautifulSoup\n",
    "import json\n",
    "import requests"
   ]
  },
  {
   "cell_type": "markdown",
   "id": "selected-constitutional",
   "metadata": {},
   "source": [
    "# Helper Functions"
   ]
  },
  {
   "cell_type": "code",
   "execution_count": 63,
   "id": "fresh-coordinator",
   "metadata": {},
   "outputs": [],
   "source": [
    "def dataframe(table):\n",
    "    rows = table.find_all('tr')\n",
    "    data = []\n",
    "    for row in rows[1:]:\n",
    "        cols = row.find_all('td')\n",
    "        cols = [ele.text.strip() for ele in cols]\n",
    "        data.append([ele for ele in cols if ele])\n",
    "    df = pd.DataFrame(data, columns=['rank', 'club', 'game_played', 'win', 'draw', 'loss',\n",
    "                                     'goals_for', 'goals_agains', 'goal_difference', 'points'])\n",
    "    return df"
   ]
  },
  {
   "cell_type": "markdown",
   "id": "medieval-orientation",
   "metadata": {},
   "source": [
    "## Data"
   ]
  },
  {
   "cell_type": "markdown",
   "id": "young-easter",
   "metadata": {},
   "source": [
    "Data is collected from soccerstats.com."
   ]
  },
  {
   "cell_type": "code",
   "execution_count": 75,
   "id": "narrative-manor",
   "metadata": {},
   "outputs": [],
   "source": [
    "url = 'https://www.soccerstats.com/homeaway.asp?league=england_20{}'\n",
    "years = np.arange(14, 21)\n",
    "for year in years:\n",
    "    response = requests.get(url.format(year))\n",
    "    html = response.text\n",
    "\n",
    "    soup = BeautifulSoup(html)\n",
    "    home_table = soup.find_all('table', {'id':'btable'})[0]\n",
    "    away_table = soup.find_all('table', {'id':'btable'})[1]\n",
    "    \n",
    "    home_df = dataframe(home_table)\n",
    "    away_df = dataframe(away_table)\n",
    "    \n",
    "    home_df.to_csv('./data/home20{}-20{}.csv'.format(year-1, year), index=False)\n",
    "    away_df.to_csv('./data/away20{}-20{}.csv'.format(year-1, year), index=False)"
   ]
  },
  {
   "cell_type": "markdown",
   "id": "collected-kazakhstan",
   "metadata": {},
   "source": [
    "# Data Preparation"
   ]
  },
  {
   "cell_type": "markdown",
   "id": "liberal-allowance",
   "metadata": {},
   "source": [
    "# Introduction\n",
    "In this section, you should give an introduction to the topic related to your chosen data set. Describe the topic and explain why it is important to analyze and understand the results. You should provide enough information on the topic in this section so that someone who has no knowledge of the topic can understand what you are doing and why it is important."
   ]
  },
  {
   "cell_type": "markdown",
   "id": "complete-constraint",
   "metadata": {},
   "source": [
    "# Research Question & Hypothesis\n",
    "In this section, you should present the question you are trying to answer with your analysis along with a prediction of what you think the results will be. Remember that your results will either support or not support your hypothesis. Do not be concerned if your results do not support your hypothesis as this leaves room for you to discuss in the conclusion why you think the results supported or did not support your hypothesis."
   ]
  },
  {
   "cell_type": "markdown",
   "id": "occasional-franchise",
   "metadata": {},
   "source": [
    "# Experimental Design\n",
    "Here, you should explain what type of analysis you will use and why it is the appropriate type of analysis. In the course, you learned about a number of ways to analyze data.  You learned about z-tests, t-tests, and how to run an analysis of variance. You also learned about performing regression and how to perform chi-squared tests. Choose one of these methods as your main type of analysis and provide detailed reasoning for this choice."
   ]
  },
  {
   "cell_type": "markdown",
   "id": "instrumental-jesus",
   "metadata": {},
   "source": [
    "# Results\n",
    "This section should include all of the results from your analysis. Provide all the information from your analysis even if it does not support your hypothesis. You should also provide screenshots/images of your data. You can use whatever types of visualizations that best represent the data (i.e. graphs, bar charts, histograms, etc).  "
   ]
  },
  {
   "cell_type": "markdown",
   "id": "disciplinary-cowboy",
   "metadata": {},
   "source": [
    "# Conclusion\n",
    "Here, you should discuss whether or not the results from your data supported or did not support your hypothesis. If the results did not support your hypothesis, discuss why you think they did not and if there is anything that could have been done differently that would have changed the outcome. If your results did support your hypothesis, explain what this means and the real life implications. In either case, discuss why further research on the topic should be done and why it is important to do so."
   ]
  }
 ],
 "metadata": {
  "kernelspec": {
   "display_name": "Python 3",
   "language": "python",
   "name": "python3"
  },
  "language_info": {
   "codemirror_mode": {
    "name": "ipython",
    "version": 3
   },
   "file_extension": ".py",
   "mimetype": "text/x-python",
   "name": "python",
   "nbconvert_exporter": "python",
   "pygments_lexer": "ipython3",
   "version": "3.7.3"
  },
  "toc": {
   "base_numbering": 1,
   "nav_menu": {},
   "number_sections": false,
   "sideBar": true,
   "skip_h1_title": false,
   "title_cell": "Table of Contents",
   "title_sidebar": "Contents",
   "toc_cell": false,
   "toc_position": {
    "height": "388.182px",
    "left": "25px",
    "top": "180.77px",
    "width": "248.352px"
   },
   "toc_section_display": true,
   "toc_window_display": true
  }
 },
 "nbformat": 4,
 "nbformat_minor": 5
}
